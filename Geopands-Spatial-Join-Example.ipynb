{
 "cells": [
  {
   "cell_type": "code",
   "execution_count": 94,
   "metadata": {
    "ExecuteTime": {
     "end_time": "2018-06-21T17:50:05.727427Z",
     "start_time": "2018-06-21T17:50:05.719770Z"
    }
   },
   "outputs": [],
   "source": [
    "import geopandas as gpd\n",
    "import pandas as pd"
   ]
  },
  {
   "cell_type": "code",
   "execution_count": 95,
   "metadata": {
    "ExecuteTime": {
     "end_time": "2018-06-21T17:50:10.027305Z",
     "start_time": "2018-06-21T17:50:06.770698Z"
    }
   },
   "outputs": [],
   "source": [
    "shots = pd.read_excel('ShotSpotter Data 14-17 180213_0.xlsx')"
   ]
  },
  {
   "cell_type": "code",
   "execution_count": 96,
   "metadata": {
    "ExecuteTime": {
     "end_time": "2018-06-21T17:50:11.110802Z",
     "start_time": "2018-06-21T17:50:11.102787Z"
    }
   },
   "outputs": [],
   "source": [
    "# https://gis.stackexchange.com/questions/174159/convert-a-pandas-dataframe-to-a-geodataframe\n",
    "from shapely.geometry import Point"
   ]
  },
  {
   "cell_type": "code",
   "execution_count": 97,
   "metadata": {
    "ExecuteTime": {
     "end_time": "2018-06-21T17:50:12.368133Z",
     "start_time": "2018-06-21T17:50:12.164808Z"
    }
   },
   "outputs": [],
   "source": [
    "geometry = [Point(xy) for xy in zip(shots['Lat (100)'], shots['Lon (100)'])]\n",
    "shots.drop(['Lat (100)', 'Lon (100)'], axis=1, inplace=True)\n",
    "crs = {'init': 'epsg:4326'}\n",
    "gdf = gpd.GeoDataFrame(shots, geometry=geometry, crs=crs)"
   ]
  },
  {
   "cell_type": "code",
   "execution_count": 98,
   "metadata": {
    "ExecuteTime": {
     "end_time": "2018-06-21T17:50:13.779875Z",
     "start_time": "2018-06-21T17:50:13.486167Z"
    }
   },
   "outputs": [],
   "source": [
    "psa = gpd.read_file('Police_Service_Areas.geojson', )"
   ]
  },
  {
   "cell_type": "code",
   "execution_count": 99,
   "metadata": {
    "ExecuteTime": {
     "end_time": "2018-06-21T17:50:14.906988Z",
     "start_time": "2018-06-21T17:50:14.820332Z"
    }
   },
   "outputs": [
    {
     "data": {
      "text/html": [
       "<div>\n",
       "<style scoped>\n",
       "    .dataframe tbody tr th:only-of-type {\n",
       "        vertical-align: middle;\n",
       "    }\n",
       "\n",
       "    .dataframe tbody tr th {\n",
       "        vertical-align: top;\n",
       "    }\n",
       "\n",
       "    .dataframe thead th {\n",
       "        text-align: right;\n",
       "    }\n",
       "</style>\n",
       "<table border=\"1\" class=\"dataframe\">\n",
       "  <thead>\n",
       "    <tr style=\"text-align: right;\">\n",
       "      <th></th>\n",
       "      <th>PSA</th>\n",
       "      <th>geometry</th>\n",
       "    </tr>\n",
       "  </thead>\n",
       "  <tbody>\n",
       "    <tr>\n",
       "      <th>0</th>\n",
       "      <td>708</td>\n",
       "      <td>POLYGON ((-77.00373311312961 38.83098011380654...</td>\n",
       "    </tr>\n",
       "    <tr>\n",
       "      <th>1</th>\n",
       "      <td>706</td>\n",
       "      <td>POLYGON ((-76.97982547209897 38.83786582274727...</td>\n",
       "    </tr>\n",
       "    <tr>\n",
       "      <th>2</th>\n",
       "      <td>705</td>\n",
       "      <td>POLYGON ((-76.99230859217997 38.84420083957919...</td>\n",
       "    </tr>\n",
       "    <tr>\n",
       "      <th>3</th>\n",
       "      <td>707</td>\n",
       "      <td>POLYGON ((-76.99631340902138 38.84654051811096...</td>\n",
       "    </tr>\n",
       "    <tr>\n",
       "      <th>4</th>\n",
       "      <td>704</td>\n",
       "      <td>POLYGON ((-76.97453810736511 38.85272679863991...</td>\n",
       "    </tr>\n",
       "  </tbody>\n",
       "</table>\n",
       "</div>"
      ],
      "text/plain": [
       "   PSA                                           geometry\n",
       "0  708  POLYGON ((-77.00373311312961 38.83098011380654...\n",
       "1  706  POLYGON ((-76.97982547209897 38.83786582274727...\n",
       "2  705  POLYGON ((-76.99230859217997 38.84420083957919...\n",
       "3  707  POLYGON ((-76.99631340902138 38.84654051811096...\n",
       "4  704  POLYGON ((-76.97453810736511 38.85272679863991..."
      ]
     },
     "execution_count": 99,
     "metadata": {},
     "output_type": "execute_result"
    }
   ],
   "source": [
    "psa = psa[['PSA','geometry']]\n",
    "psa.head()"
   ]
  },
  {
   "cell_type": "code",
   "execution_count": 107,
   "metadata": {
    "ExecuteTime": {
     "end_time": "2018-06-21T17:52:07.097310Z",
     "start_time": "2018-06-21T17:52:06.686224Z"
    }
   },
   "outputs": [],
   "source": [
    "geo_shots_psa = gpd.sjoin(gdf, psa, how='left', op='within')"
   ]
  },
  {
   "cell_type": "code",
   "execution_count": 108,
   "metadata": {
    "ExecuteTime": {
     "end_time": "2018-06-21T17:52:08.144320Z",
     "start_time": "2018-06-21T17:52:08.114107Z"
    }
   },
   "outputs": [
    {
     "data": {
      "text/html": [
       "<div>\n",
       "<style scoped>\n",
       "    .dataframe tbody tr th:only-of-type {\n",
       "        vertical-align: middle;\n",
       "    }\n",
       "\n",
       "    .dataframe tbody tr th {\n",
       "        vertical-align: top;\n",
       "    }\n",
       "\n",
       "    .dataframe thead th {\n",
       "        text-align: right;\n",
       "    }\n",
       "</style>\n",
       "<table border=\"1\" class=\"dataframe\">\n",
       "  <thead>\n",
       "    <tr style=\"text-align: right;\">\n",
       "      <th></th>\n",
       "      <th>ID</th>\n",
       "      <th>Type</th>\n",
       "      <th>Date</th>\n",
       "      <th>Time</th>\n",
       "      <th>Source</th>\n",
       "      <th>geometry</th>\n",
       "      <th>index_right</th>\n",
       "    </tr>\n",
       "  </thead>\n",
       "  <tbody>\n",
       "    <tr>\n",
       "      <th>0</th>\n",
       "      <td>5D39700</td>\n",
       "      <td>Multiple_Gunshots</td>\n",
       "      <td>2014-01-01</td>\n",
       "      <td>00:00:02</td>\n",
       "      <td>WashingtonDC5D</td>\n",
       "      <td>POINT (38.917 -77.012)</td>\n",
       "      <td>NaN</td>\n",
       "    </tr>\n",
       "    <tr>\n",
       "      <th>1</th>\n",
       "      <td>5D39701</td>\n",
       "      <td>Multiple_Gunshots</td>\n",
       "      <td>2014-01-01</td>\n",
       "      <td>00:00:06</td>\n",
       "      <td>WashingtonDC5D</td>\n",
       "      <td>POINT (38.917 -77.002)</td>\n",
       "      <td>NaN</td>\n",
       "    </tr>\n",
       "    <tr>\n",
       "      <th>2</th>\n",
       "      <td>5D39702</td>\n",
       "      <td>Multiple_Gunshots</td>\n",
       "      <td>2014-01-01</td>\n",
       "      <td>00:00:07</td>\n",
       "      <td>WashingtonDC5D</td>\n",
       "      <td>POINT (38.917 -76.98699999999999)</td>\n",
       "      <td>NaN</td>\n",
       "    </tr>\n",
       "    <tr>\n",
       "      <th>3</th>\n",
       "      <td>7D119445</td>\n",
       "      <td>Multiple_Gunshots</td>\n",
       "      <td>2014-01-01</td>\n",
       "      <td>00:00:10</td>\n",
       "      <td>WashingtonDC7D</td>\n",
       "      <td>POINT (38.823 -77)</td>\n",
       "      <td>NaN</td>\n",
       "    </tr>\n",
       "    <tr>\n",
       "      <th>4</th>\n",
       "      <td>1D55993</td>\n",
       "      <td>Multiple_Gunshots</td>\n",
       "      <td>2014-01-01</td>\n",
       "      <td>00:00:10</td>\n",
       "      <td>WashingtonDC1D</td>\n",
       "      <td>POINT (38.893 -76.99299999999999)</td>\n",
       "      <td>NaN</td>\n",
       "    </tr>\n",
       "  </tbody>\n",
       "</table>\n",
       "</div>"
      ],
      "text/plain": [
       "         ID               Type       Date      Time          Source  \\\n",
       "0   5D39700  Multiple_Gunshots 2014-01-01  00:00:02  WashingtonDC5D   \n",
       "1   5D39701  Multiple_Gunshots 2014-01-01  00:00:06  WashingtonDC5D   \n",
       "2   5D39702  Multiple_Gunshots 2014-01-01  00:00:07  WashingtonDC5D   \n",
       "3  7D119445  Multiple_Gunshots 2014-01-01  00:00:10  WashingtonDC7D   \n",
       "4   1D55993  Multiple_Gunshots 2014-01-01  00:00:10  WashingtonDC1D   \n",
       "\n",
       "                            geometry  index_right  \n",
       "0             POINT (38.917 -77.012)          NaN  \n",
       "1             POINT (38.917 -77.002)          NaN  \n",
       "2  POINT (38.917 -76.98699999999999)          NaN  \n",
       "3                 POINT (38.823 -77)          NaN  \n",
       "4  POINT (38.893 -76.99299999999999)          NaN  "
      ]
     },
     "execution_count": 108,
     "metadata": {},
     "output_type": "execute_result"
    }
   ],
   "source": [
    "geo_shots_psa.head()"
   ]
  },
  {
   "cell_type": "code",
   "execution_count": null,
   "metadata": {},
   "outputs": [],
   "source": []
  }
 ],
 "metadata": {
  "kernelspec": {
   "display_name": "Python [conda env:Anaconda3]",
   "language": "python",
   "name": "conda-env-Anaconda3-py"
  },
  "language_info": {
   "codemirror_mode": {
    "name": "ipython",
    "version": 3
   },
   "file_extension": ".py",
   "mimetype": "text/x-python",
   "name": "python",
   "nbconvert_exporter": "python",
   "pygments_lexer": "ipython3",
   "version": "3.6.3"
  },
  "toc": {
   "nav_menu": {},
   "number_sections": true,
   "sideBar": true,
   "skip_h1_title": false,
   "title_cell": "Table of Contents",
   "title_sidebar": "Contents",
   "toc_cell": false,
   "toc_position": {},
   "toc_section_display": true,
   "toc_window_display": false
  },
  "varInspector": {
   "cols": {
    "lenName": 16,
    "lenType": 16,
    "lenVar": 40
   },
   "kernels_config": {
    "python": {
     "delete_cmd_postfix": "",
     "delete_cmd_prefix": "del ",
     "library": "var_list.py",
     "varRefreshCmd": "print(var_dic_list())"
    },
    "r": {
     "delete_cmd_postfix": ") ",
     "delete_cmd_prefix": "rm(",
     "library": "var_list.r",
     "varRefreshCmd": "cat(var_dic_list()) "
    }
   },
   "types_to_exclude": [
    "module",
    "function",
    "builtin_function_or_method",
    "instance",
    "_Feature"
   ],
   "window_display": false
  }
 },
 "nbformat": 4,
 "nbformat_minor": 2
}
